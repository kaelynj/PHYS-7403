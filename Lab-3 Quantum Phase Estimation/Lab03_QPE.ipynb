{
 "cells": [
  {
   "cell_type": "markdown",
   "metadata": {},
   "source": [
    "<h1 style=\"font-size:35px;\n",
    "        color:black;\n",
    "        \">Lab 3 Quantum Phase Estimation</h1>"
   ]
  },
  {
   "cell_type": "markdown",
   "metadata": {},
   "source": [
    "Prerequisite\n",
    "- [Ch.3.5 Quantum Fourier Transform](https://qiskit.org/textbook/ch-algorithms/quantum-fourier-transform.html)\n",
    "- [Ch.3.6 Quantum Phase Estimation](https://qiskit.org/textbook/ch-algorithms/quantum-phase-estimation.html)\n",
    "\n",
    "Other relevant materials\n",
    "- [QCQI] Michael A. Nielsen and Isaac L. Chuang. 2011. Quantum Computation and Quantum Information"
   ]
  },
  {
   "cell_type": "code",
   "execution_count": 1,
   "metadata": {},
   "outputs": [
    {
     "name": "stderr",
     "output_type": "stream",
     "text": [
      "C:\\Users\\Tyler\\AppData\\Local\\Temp/ipykernel_6420/35548535.py:6: DeprecationWarning: The qiskit.ignis package is deprecated and has been supersceded by the qiskit-experiments project. Refer to the migration guide: https://github.com/Qiskit/qiskit-ignis#migration-guide on how to migrate to the new project.\n",
      "  from qiskit.ignis.mitigation.measurement import *\n"
     ]
    }
   ],
   "source": [
    "from qiskit import *\n",
    "import numpy as np\n",
    "from qiskit.visualization import plot_histogram\n",
    "import qiskit.tools.jupyter\n",
    "from qiskit.tools.monitor import job_monitor\n",
    "from qiskit.ignis.mitigation.measurement import *\n",
    "import matplotlib.pyplot as plt"
   ]
  },
  {
   "cell_type": "markdown",
   "metadata": {},
   "source": [
    "<h2 style=\"font-size:24px;\">Part 1: Performance of Quantum Phase Estimation</h2>\n",
    "\n",
    "<br>\n",
    "<div style=\"background: #E8E7EB; border-radius: 5px;\n",
    "-moz-border-radius: 5px;\">\n",
    "  <p style=\"background: #800080;\n",
    "            border-radius: 5px 5px 0px 0px;\n",
    "            padding: 10px 0px 10px 10px;\n",
    "            font-size:18px;\n",
    "            color:white;\n",
    "            \"><b>Goal</b></p>\n",
    "    <p style=\" padding: 0px 0px 10px 10px;\n",
    "              font-size:16px;\">Investigate the relationship between the number of qubits required for the desired accuracy of the phase estimation with high probability.</p>\n",
    "</div>\n",
    "\n",
    "\n",
    "The accuracy of the estimated value through Quantum Phase Estimation (QPE) and its probability of success depend on the number of qubits employed in QPE circuits. In this lab, we examine the number of qubits required to accomplish the desired accuracy and the probability of success in determining the phase through QPE."
   ]
  },
  {
   "cell_type": "markdown",
   "metadata": {},
   "source": [
    "<h3 style=\"font-size: 20px\">1. Find the probability of obtaining the estimation for a phase value accurate to $2^{-2}$ successfully with four counting qubits.</h3> "
   ]
  },
  {
   "cell_type": "markdown",
   "metadata": {},
   "source": [
    "<h4 style=\"font-size: 17px\">&#128211;Step A. Set up the QPE circuit with four counting qubits and save the circuit to the variable 'qc4'.  Execute 'qc4' on a Aer simulator.  Plot the histogram of the result.</h4>"
   ]
  },
  {
   "cell_type": "markdown",
   "metadata": {},
   "source": [
    "Check the QPE chapter in Qiskit textbook ( go to `3. Example: Getting More Precision` section [here](https://qiskit.org/textbook/ch-algorithms/quantum-phase-estimation.html#3.-Example:-Getting-More-Precision-) ) for the circuit."
   ]
  },
  {
   "cell_type": "code",
   "execution_count": 2,
   "metadata": {},
   "outputs": [],
   "source": [
    "#Quantum Fouriter transform\n",
    "def qft(n):\n",
    "    \"\"\"Creates an n-qubit QFT circuit\"\"\"\n",
    "    circuit = QuantumCircuit(n)\n",
    "    def swap_registers(circuit, n):\n",
    "        for qubit in range(n//2):\n",
    "            circuit.swap(qubit, n-qubit-1)\n",
    "        return circuit\n",
    "    def qft_rotations(circuit, n):\n",
    "        \"\"\"Performs qft on the first n qubits in circuit (without swaps)\"\"\"\n",
    "        if n == 0:\n",
    "            return circuit\n",
    "        n -= 1\n",
    "        circuit.h(n)\n",
    "        for qubit in range(n):\n",
    "            circuit.cp(np.pi/2**(n-qubit), qubit, n)\n",
    "        qft_rotations(circuit, n)\n",
    "    \n",
    "    qft_rotations(circuit, n)\n",
    "    swap_registers(circuit, n)\n",
    "    return circuit\n",
    "\n",
    "#Inverse Quantum Fourier Transform\n",
    "def qft_dagger(qc, n):\n",
    "    \"\"\"n-qubit QFTdagger the first n qubits in circ\"\"\"\n",
    "    # Don't forget the Swaps!\n",
    "    for qubit in range(n//2):\n",
    "        qc.swap(qubit, n-qubit-1)\n",
    "    for j in range(n):\n",
    "        for m in range(j):\n",
    "            qc.cp(-math.pi/float(2**(j-m)), m, j)\n",
    "        qc.h(j)"
   ]
  },
  {
   "cell_type": "code",
   "execution_count": 3,
   "metadata": {},
   "outputs": [
    {
     "data": {
      "text/html": [
       "<pre style=\"word-wrap: normal;white-space: pre;background: #fff0;line-height: 1.1;font-family: &quot;Courier New&quot;,Courier,monospace\">     ┌───┐                                                            »\n",
       "q_0: ┤ H ├─■──────────────────────────────────────────────────────────»\n",
       "     ├───┤ │                                                          »\n",
       "q_1: ┤ H ├─┼─────────■─────────■──────────────────────────────────────»\n",
       "     ├───┤ │         │         │                                      »\n",
       "q_2: ┤ H ├─┼─────────┼─────────┼─────────■─────────■─────────■────────»\n",
       "     ├───┤ │         │         │         │         │         │        »\n",
       "q_3: ┤ H ├─┼─────────┼─────────┼─────────┼─────────┼─────────┼────────»\n",
       "     ├───┤ │P(2π/3)  │P(2π/3)  │P(2π/3)  │P(2π/3)  │P(2π/3)  │P(2π/3) »\n",
       "q_4: ┤ X ├─■─────────■─────────■─────────■─────────■─────────■────────»\n",
       "     └───┘                                                            »\n",
       "c: 4/═════════════════════════════════════════════════════════════════»\n",
       "                                                                      »\n",
       "«                                                                           »\n",
       "«q_0: ──────────────────────────────────────────────────────────────────────»\n",
       "«                                                                           »\n",
       "«q_1: ──────────────X───────────────────────────────────────────────────────»\n",
       "«                   │                                                       »\n",
       "«q_2: ─■────────────X───────────────────────────────────────────────────────»\n",
       "«      │                                                                    »\n",
       "«q_3: ─┼─────────■─────────■─────────■─────────■─────────■─────────■────────»\n",
       "«      │P(2π/3)  │P(2π/3)  │P(2π/3)  │P(2π/3)  │P(2π/3)  │P(2π/3)  │P(2π/3) »\n",
       "«q_4: ─■─────────■─────────■─────────■─────────■─────────■─────────■────────»\n",
       "«                                                                           »\n",
       "«c: 4/══════════════════════════════════════════════════════════════════════»\n",
       "«                                                                           »\n",
       "«                            ┌───┐                                             »\n",
       "«q_0: ─────────────────────X─┤ H ├─■──────────────■───────────────────■────────»\n",
       "«                          │ └───┘ │P(-π/2) ┌───┐ │                   │        »\n",
       "«q_1: ─────────────────────┼───────■────────┤ H ├─┼─────────■─────────┼────────»\n",
       "«                          │                └───┘ │P(-π/4)  │P(-π/2)  │        »\n",
       "«q_2: ─────────────────────┼──────────────────────■─────────■─────────┼────────»\n",
       "«                          │                                          │P(-π/8) »\n",
       "«q_3: ─■─────────■─────────X──────────────────────────────────────────■────────»\n",
       "«      │P(2π/3)  │P(2π/3)                                                      »\n",
       "«q_4: ─■─────────■─────────────────────────────────────────────────────────────»\n",
       "«                                                                              »\n",
       "«c: 4/═════════════════════════════════════════════════════════════════════════»\n",
       "«                                                                              »\n",
       "«                    ┌─┐                        \n",
       "«q_0: ───────────────┤M├────────────────────────\n",
       "«                    └╥┘          ┌─┐           \n",
       "«q_1: ──────■─────────╫───────────┤M├───────────\n",
       "«     ┌───┐ │         ║           └╥┘     ┌─┐   \n",
       "«q_2: ┤ H ├─┼─────────╫──■─────────╫──────┤M├───\n",
       "«     └───┘ │P(-π/4)  ║  │P(-π/2)  ║ ┌───┐└╥┘┌─┐\n",
       "«q_3: ──────■─────────╫──■─────────╫─┤ H ├─╫─┤M├\n",
       "«                     ║            ║ └───┘ ║ └╥┘\n",
       "«q_4: ────────────────╫────────────╫───────╫──╫─\n",
       "«                     ║            ║       ║  ║ \n",
       "«c: 4/════════════════╩════════════╩═══════╩══╩═\n",
       "«                     0            1       2  3 </pre>"
      ],
      "text/plain": [
       "     ┌───┐                                                            »\n",
       "q_0: ┤ H ├─■──────────────────────────────────────────────────────────»\n",
       "     ├───┤ │                                                          »\n",
       "q_1: ┤ H ├─┼─────────■─────────■──────────────────────────────────────»\n",
       "     ├───┤ │         │         │                                      »\n",
       "q_2: ┤ H ├─┼─────────┼─────────┼─────────■─────────■─────────■────────»\n",
       "     ├───┤ │         │         │         │         │         │        »\n",
       "q_3: ┤ H ├─┼─────────┼─────────┼─────────┼─────────┼─────────┼────────»\n",
       "     ├───┤ │P(2π/3)  │P(2π/3)  │P(2π/3)  │P(2π/3)  │P(2π/3)  │P(2π/3) »\n",
       "q_4: ┤ X ├─■─────────■─────────■─────────■─────────■─────────■────────»\n",
       "     └───┘                                                            »\n",
       "c: 4/═════════════════════════════════════════════════════════════════»\n",
       "                                                                      »\n",
       "«                                                                           »\n",
       "«q_0: ──────────────────────────────────────────────────────────────────────»\n",
       "«                                                                           »\n",
       "«q_1: ──────────────X───────────────────────────────────────────────────────»\n",
       "«                   │                                                       »\n",
       "«q_2: ─■────────────X───────────────────────────────────────────────────────»\n",
       "«      │                                                                    »\n",
       "«q_3: ─┼─────────■─────────■─────────■─────────■─────────■─────────■────────»\n",
       "«      │P(2π/3)  │P(2π/3)  │P(2π/3)  │P(2π/3)  │P(2π/3)  │P(2π/3)  │P(2π/3) »\n",
       "«q_4: ─■─────────■─────────■─────────■─────────■─────────■─────────■────────»\n",
       "«                                                                           »\n",
       "«c: 4/══════════════════════════════════════════════════════════════════════»\n",
       "«                                                                           »\n",
       "«                            ┌───┐                                             »\n",
       "«q_0: ─────────────────────X─┤ H ├─■──────────────■───────────────────■────────»\n",
       "«                          │ └───┘ │P(-π/2) ┌───┐ │                   │        »\n",
       "«q_1: ─────────────────────┼───────■────────┤ H ├─┼─────────■─────────┼────────»\n",
       "«                          │                └───┘ │P(-π/4)  │P(-π/2)  │        »\n",
       "«q_2: ─────────────────────┼──────────────────────■─────────■─────────┼────────»\n",
       "«                          │                                          │P(-π/8) »\n",
       "«q_3: ─■─────────■─────────X──────────────────────────────────────────■────────»\n",
       "«      │P(2π/3)  │P(2π/3)                                                      »\n",
       "«q_4: ─■─────────■─────────────────────────────────────────────────────────────»\n",
       "«                                                                              »\n",
       "«c: 4/═════════════════════════════════════════════════════════════════════════»\n",
       "«                                                                              »\n",
       "«                    ┌─┐                        \n",
       "«q_0: ───────────────┤M├────────────────────────\n",
       "«                    └╥┘          ┌─┐           \n",
       "«q_1: ──────■─────────╫───────────┤M├───────────\n",
       "«     ┌───┐ │         ║           └╥┘     ┌─┐   \n",
       "«q_2: ┤ H ├─┼─────────╫──■─────────╫──────┤M├───\n",
       "«     └───┘ │P(-π/4)  ║  │P(-π/2)  ║ ┌───┐└╥┘┌─┐\n",
       "«q_3: ──────■─────────╫──■─────────╫─┤ H ├─╫─┤M├\n",
       "«                     ║            ║ └───┘ ║ └╥┘\n",
       "«q_4: ────────────────╫────────────╫───────╫──╫─\n",
       "«                     ║            ║       ║  ║ \n",
       "«c: 4/════════════════╩════════════╩═══════╩══╩═\n",
       "«                     0            1       2  3 "
      ]
     },
     "execution_count": 3,
     "metadata": {},
     "output_type": "execute_result"
    }
   ],
   "source": [
    "from qiskit import *\n",
    "import numpy as np\n",
    "import matplotlib.pyplot as plt\n",
    "import math\n",
    "\n",
    "## Start your code to create the circuit, qc4\n",
    "\n",
    "# Create and set up circuit\n",
    "qc4 = QuantumCircuit(5, 4)\n",
    "\n",
    "# Apply H-Gates to counting qubits:\n",
    "for qubit in range(4):\n",
    "    qc4.h(qubit)\n",
    "\n",
    "# Prepare our eigenstate |psi>:\n",
    "qc4.x(4)\n",
    "\n",
    "# Do the controlled-U operations:\n",
    "angle = 2*math.pi/3\n",
    "repetitions = 1\n",
    "for counting_qubit in range(4):\n",
    "    for i in range(repetitions):\n",
    "        qc4.cp(angle, counting_qubit, 4);\n",
    "    repetitions *= 2\n",
    "\n",
    "# Do the inverse QFT:\n",
    "qft_dagger(qc4, 4)\n",
    "\n",
    "# Measure of course!\n",
    "for n in range(4):\n",
    "    qc4.measure(n,n)\n",
    "\n",
    "qc4.draw()\n"
   ]
  },
  {
   "cell_type": "code",
   "execution_count": 4,
   "metadata": {},
   "outputs": [
    {
     "data": {
      "image/png": "[encoded data removed]",
      "text/plain": [
       "<Figure size 648x360 with 1 Axes>"
      ]
     },
     "execution_count": 4,
     "metadata": {},
     "output_type": "execute_result"
    }
   ],
   "source": [
    "## Run this cell to simulate 'qc4' and to plot the histogram of the result\n",
    "sim = Aer.get_backend('aer_simulator')\n",
    "shots = 20000\n",
    "count_qc4 = execute(qc4, sim, shots=shots).result().get_counts()\n",
    "plot_histogram(count_qc4, figsize=(9,5))"
   ]
  },
  {
   "cell_type": "markdown",
   "metadata": {},
   "source": [
    "Having performed `Step A` successfully, you will have obtained a distribution similar to the one shown below with the highest probability at `0101` which corresponds to the estimated $\\phi$ value, `0.3125`."
   ]
  },
  {
   "cell_type": "markdown",
   "metadata": {},
   "source": [
    "![](image/L3_qc4_hist.png)"
   ]
  },
  {
   "cell_type": "markdown",
   "metadata": {},
   "source": [
    "Since the number of counting qubits used for the circuit is four, the best estimated value should be accurate to $\\delta = 2^{-4} = 0.0625$.  However, there are multiple possible outcomes as $\\theta = 1/3$ cannot be expressed in a finite number of bits, the estimation by QPE here is not always bounded by this accuracy. "
   ]
  },
  {
   "cell_type": "markdown",
   "metadata": {},
   "source": [
    "Running the following cell shows the same histogram but with all possible estimated $\\phi$ values on the x-axis."
   ]
  },
  {
   "cell_type": "code",
   "execution_count": 5,
   "metadata": {
    "scrolled": true
   },
   "outputs": [
    {
     "data": {
      "image/png": "[encoded data removed]",
      "text/plain": [
       "<Figure size 648x360 with 1 Axes>"
      ]
     },
     "execution_count": 5,
     "metadata": {},
     "output_type": "execute_result"
    }
   ],
   "source": [
    "t = 4\n",
    "\n",
    "phi_est = np.array([round(int(key, 2)/2**t,3) for key in list(count_qc4.keys())])\n",
    "key_new = list(map(str, phi_est))\n",
    "count_new = dict(zip(key_new, count_qc4.values()))\n",
    "plot_histogram(count_new, figsize=(9,5))"
   ]
  },
  {
   "cell_type": "markdown",
   "metadata": {},
   "source": [
    "**Suppose the outcome of the final measurement is $m$, and let $b$ the best estimation which is `0.3125` for this case.**\n",
    "<h4 style=\"font-size: 17px\">&#128211;Step B. Find $e$, the maximum difference in integer from the best estimation <code>0101</code> so that all the outcomes, 'm's, would approximate $\\phi$ to an accuracy $2^{-2}$ when $|m - b| \\leq \\frac{e}{2^{t}}$. </h4>"
   ]
  },
  {
   "cell_type": "markdown",
   "metadata": {},
   "source": [
    "In this case, the values of $t$ and $b$ are $4$ and $0.3125$, respectively."
   ]
  },
  {
   "cell_type": "markdown",
   "metadata": {},
   "source": [
    "For example, under $e = 1$, the considered outcomes are `0100`, `0101`, `0110` which correspond to the values of $m$: $0.25,~0.312,~0.375$, respectively, and all of them approximate the value $\\frac{1}{3}$ to an accuracy $2^{-2}$."
   ]
  },
  {
   "cell_type": "code",
   "execution_count": 40,
   "metadata": {},
   "outputs": [
    {
     "name": "stdout",
     "output_type": "stream",
     "text": [
      "3\n"
     ]
    }
   ],
   "source": [
    "# from qiskit import *\n",
    "import numpy as np\n",
    "# from qiskit.visualization import plot_histogram\n",
    "# import qiskit.tools.jupyter\n",
    "# from qiskit.tools.monitor import job_monitor\n",
    "# from qiskit.ignis.mitigation.measurement import *\n",
    "import matplotlib.pyplot as plt\n",
    "\n",
    "## Your code goes here\n",
    "\n",
    "b = 0.3125\n",
    "start = 0\n",
    "m_list = []\n",
    "sum = 0.\n",
    "for i in range(16):\n",
    "    m_list.append(sum)\n",
    "    if m_list[i] == b:\n",
    "        start = i\n",
    "    sum += 1/16\n",
    "\n",
    "# constants\n",
    "phi = 1/3. #actual phase\n",
    "e = -1 #starting e (start at -1 because loop increments at the beginning)\n",
    "diff = np.abs(phi - m_list[start]) #difference between phi and the bit estimation value\n",
    "accuracy = 2.**(-2) #desired accuracy\n",
    "lower_bound = start #lower bound for loop\n",
    "upper_bound = start #upper bound for loop\n",
    "\n",
    "# Loop, while the difference is less than or equal to the accuracy, increment e and check the largest difference between phi and the 2 next bit estimations\n",
    "while diff <= accuracy:\n",
    "    e += 1\n",
    "    lower_bound -= 1\n",
    "    upper_bound += 1\n",
    "    lower_diff = np.abs(phi - m_list[lower_bound])\n",
    "    upper_diff = np.abs(phi - m_list[upper_bound])\n",
    "    diff = max(lower_diff,upper_diff)\n",
    "\n",
    "print(e)\n"
   ]
  },
  {
   "cell_type": "markdown",
   "metadata": {},
   "source": [
    "<h4 style=\"font-size: 17px\">&#128211;Step C. Compute the probability of obtaining an approximation correct to an accuracy $2^{-2}$.  Verify that the computed probability value is larger or equal to $1- \\frac{1}{2(2^{(t-n)}-2)}$ where $t$ is the number of counting bits and the $2^{-n}$ is the desired accuracy. </h4>"
   ]
  },
  {
   "cell_type": "markdown",
   "metadata": {},
   "source": [
    "Now it is easy to evaluate the probability of the success from the histogram since all the outcomes that approximate $\\phi$ to the accuracy $2^{-2}$ can be found based on the maximum difference $e$ from the best estimate. "
   ]
  },
  {
   "cell_type": "code",
   "execution_count": 43,
   "metadata": {},
   "outputs": [
    {
     "name": "stdout",
     "output_type": "stream",
     "text": [
      "here!\n",
      "0\n",
      "0001\n"
     ]
    }
   ],
   "source": [
    "# from qiskit import *\n",
    "import numpy as np\n",
    "# from qiskit.visualization import plot_histogram\n",
    "# import qiskit.tools.jupyter\n",
    "# from qiskit.tools.monitor import job_monitor\n",
    "# from qiskit.ignis.mitigation.measurement import *\n",
    "import matplotlib.pyplot as plt\n",
    "\n",
    "## Your code goes here\n",
    "\n",
    "# probability of success = sum of probabilities of the bits that are allowed (within e)\n",
    "# Note that e will be all bits that are +- e bits\n",
    "# so we need to start at the start bit, which we already have!\n",
    "# then we need to calculate e, which we already have!\n",
    "# then, we can sum those probabilities!\n",
    "\n",
    "b = 0.3125\n",
    "start = 0\n",
    "m_list = []\n",
    "sum = 0.\n",
    "for i in range(16):\n",
    "    m_list.append(sum)\n",
    "    if m_list[i] == b:\n",
    "        start = i\n",
    "    sum += 1/16\n",
    "\n",
    "# constants\n",
    "phi = 1/3. #actual phase\n",
    "e = -1 #starting e (start at -1 because loop increments at the beginning)\n",
    "diff = np.abs(phi - m_list[start]) #difference between phi and the bit estimation value\n",
    "accuracy = 2.**(-2) #desired accuracy\n",
    "lower_bound = start #lower bound for loop\n",
    "upper_bound = start #upper bound for loop\n",
    "\n",
    "# Loop, while the difference is less than or equal to the accuracy, increment e and check the largest difference between phi and the 2 next bit estimations\n",
    "while diff <= accuracy:\n",
    "    e += 1\n",
    "    lower_bound -= 1\n",
    "    upper_bound -= 1\n",
    "    lower_diff = np.abs(phi - m_list[lower_bound])\n",
    "    upper_diff = np.abs(phi - m_list[upper_bound])\n",
    "    diff = max(lower_diff,upper_diff)\n",
    "\n",
    "# now we have e, so we need to add the probabilities!\n",
    "# so we need to loop through the dict and take the count values at the proper places and calculate probabilities!\n",
    "# Loop to find the most significant bit string\n",
    "bit_count = 0\n",
    "for option in count_qc4:\n",
    "    bit_count_comparison = count_qc4[option]\n",
    "    bit_count = max(bit_count, bit_count_comparison)\n",
    "    if bit_count == bit_count_comparison:\n",
    "        most_sig_bit_string = option\n",
    "\n",
    "# Now need to loop through bits e away from the bit we found, and calculate probabilities!\n",
    "# make a list of bits allowed\n",
    "list_allowed_start = start - e\n",
    "list_index = list_allowed_start\n",
    "list_allowed_end = start + e\n",
    "bit_list = []\n",
    "while list_index <= list_allowed_end:\n",
    "    bit_list.append(list_index)\n",
    "    list_index +=1\n",
    "    \n",
    "# Now make a list of the keys that will work\n",
    "# for bit in bit_list:\n",
    "    \n",
    "#     print(bit/2)\n",
    "#     if \n",
    "    \n",
    "# try to convert to a bit string\n",
    "val = 2\n",
    "val_char_string = '0000'\n",
    "new_val = val / 2\n",
    "while new_val > 0:\n",
    "    new_val = int(new_val/2)\n",
    "    if math.remainder(new_val,2) == 0:\n",
    "        val_char_string = val_char_string.replace('0','',1)\n",
    "        val_char_string = val_char_string + '1'\n",
    "        print(\"here!\")\n",
    "    else:\n",
    "        val_char_string = val_char_string.replace('0','',1)\n",
    "        val_char_string = val_char_string + '0'\n",
    "    print(new_val)\n",
    "print(val_char_string)\n",
    "    \n",
    "\n",
    "# dict_index = 0\n",
    "# print(count_qc4)\n",
    "# for option in count_qc4:\n",
    "#     if dict_index in bit_list:\n",
    "#         print(option)\n",
    "#     dict_index += 1"
   ]
  },
  {
   "cell_type": "markdown",
   "metadata": {},
   "source": [
    "![](image/L3_e_max.png)"
   ]
  },
  {
   "cell_type": "markdown",
   "metadata": {},
   "source": [
    "![](image/L3_prob_t.png)"
   ]
  },
  {
   "cell_type": "markdown",
   "metadata": {},
   "source": [
    "The following graph exhibits the relationships with different accuracy levels.  The relationship, $t=n+log(2+\\frac{1}{2\\epsilon})$, indicates the number of counting qubits $t$ to estimate $\\phi$ to an accuracy $2^{-2}$ with probability of success at least $1-\\epsilon$, as we validated above. "
   ]
  },
  {
   "cell_type": "code",
   "execution_count": 8,
   "metadata": {},
   "outputs": [
    {
     "ename": "NameError",
     "evalue": "name 'y' is not defined",
     "output_type": "error",
     "traceback": [
      "\u001b[1;31m---------------------------------------------------------------------------\u001b[0m",
      "\u001b[1;31mNameError\u001b[0m                                 Traceback (most recent call last)",
      "\u001b[1;32m~\\AppData\\Local\\Temp/ipykernel_6420/2684035083.py\u001b[0m in \u001b[0;36m<module>\u001b[1;34m\u001b[0m\n\u001b[0;32m      1\u001b[0m \u001b[0mt\u001b[0m \u001b[1;33m=\u001b[0m \u001b[0mnp\u001b[0m\u001b[1;33m.\u001b[0m\u001b[0mlinspace\u001b[0m\u001b[1;33m(\u001b[0m\u001b[1;36m5.1\u001b[0m\u001b[1;33m,\u001b[0m \u001b[1;36m10\u001b[0m\u001b[1;33m,\u001b[0m \u001b[1;36m100\u001b[0m\u001b[1;33m)\u001b[0m\u001b[1;33m\u001b[0m\u001b[1;33m\u001b[0m\u001b[0m\n\u001b[1;32m----> 2\u001b[1;33m \u001b[0mprob_success_n\u001b[0m \u001b[1;33m=\u001b[0m \u001b[1;33m[\u001b[0m\u001b[0my\u001b[0m\u001b[1;33m(\u001b[0m\u001b[0mt\u001b[0m\u001b[1;33m,\u001b[0m \u001b[0mn\u001b[0m\u001b[1;33m)\u001b[0m \u001b[1;32mfor\u001b[0m \u001b[0mn\u001b[0m \u001b[1;32min\u001b[0m \u001b[1;33m[\u001b[0m\u001b[1;36m2\u001b[0m\u001b[1;33m,\u001b[0m \u001b[1;36m3\u001b[0m\u001b[1;33m,\u001b[0m \u001b[1;36m4\u001b[0m\u001b[1;33m]\u001b[0m\u001b[1;33m]\u001b[0m\u001b[1;33m\u001b[0m\u001b[1;33m\u001b[0m\u001b[0m\n\u001b[0m\u001b[0;32m      3\u001b[0m \u001b[0mprob_n2\u001b[0m\u001b[1;33m,\u001b[0m \u001b[0mprob_n3\u001b[0m\u001b[1;33m,\u001b[0m \u001b[0mprob_n4\u001b[0m  \u001b[1;33m=\u001b[0m \u001b[0mprob_success_n\u001b[0m\u001b[1;33m[\u001b[0m\u001b[1;36m0\u001b[0m\u001b[1;33m]\u001b[0m\u001b[1;33m,\u001b[0m \u001b[0mprob_success_n\u001b[0m\u001b[1;33m[\u001b[0m\u001b[1;36m1\u001b[0m\u001b[1;33m]\u001b[0m\u001b[1;33m,\u001b[0m \u001b[0mprob_success_n\u001b[0m\u001b[1;33m[\u001b[0m\u001b[1;36m2\u001b[0m\u001b[1;33m]\u001b[0m\u001b[1;33m\u001b[0m\u001b[1;33m\u001b[0m\u001b[0m\n\u001b[0;32m      4\u001b[0m \u001b[1;33m\u001b[0m\u001b[0m\n\u001b[0;32m      5\u001b[0m \u001b[0mplt\u001b[0m\u001b[1;33m.\u001b[0m\u001b[0mfigure\u001b[0m\u001b[1;33m(\u001b[0m\u001b[0mfigsize\u001b[0m\u001b[1;33m=\u001b[0m\u001b[1;33m(\u001b[0m\u001b[1;36m7\u001b[0m\u001b[1;33m,\u001b[0m \u001b[1;36m5\u001b[0m\u001b[1;33m)\u001b[0m\u001b[1;33m)\u001b[0m\u001b[1;33m\u001b[0m\u001b[1;33m\u001b[0m\u001b[0m\n",
      "\u001b[1;32m~\\AppData\\Local\\Temp/ipykernel_6420/2684035083.py\u001b[0m in \u001b[0;36m<listcomp>\u001b[1;34m(.0)\u001b[0m\n\u001b[0;32m      1\u001b[0m \u001b[0mt\u001b[0m \u001b[1;33m=\u001b[0m \u001b[0mnp\u001b[0m\u001b[1;33m.\u001b[0m\u001b[0mlinspace\u001b[0m\u001b[1;33m(\u001b[0m\u001b[1;36m5.1\u001b[0m\u001b[1;33m,\u001b[0m \u001b[1;36m10\u001b[0m\u001b[1;33m,\u001b[0m \u001b[1;36m100\u001b[0m\u001b[1;33m)\u001b[0m\u001b[1;33m\u001b[0m\u001b[1;33m\u001b[0m\u001b[0m\n\u001b[1;32m----> 2\u001b[1;33m \u001b[0mprob_success_n\u001b[0m \u001b[1;33m=\u001b[0m \u001b[1;33m[\u001b[0m\u001b[0my\u001b[0m\u001b[1;33m(\u001b[0m\u001b[0mt\u001b[0m\u001b[1;33m,\u001b[0m \u001b[0mn\u001b[0m\u001b[1;33m)\u001b[0m \u001b[1;32mfor\u001b[0m \u001b[0mn\u001b[0m \u001b[1;32min\u001b[0m \u001b[1;33m[\u001b[0m\u001b[1;36m2\u001b[0m\u001b[1;33m,\u001b[0m \u001b[1;36m3\u001b[0m\u001b[1;33m,\u001b[0m \u001b[1;36m4\u001b[0m\u001b[1;33m]\u001b[0m\u001b[1;33m]\u001b[0m\u001b[1;33m\u001b[0m\u001b[1;33m\u001b[0m\u001b[0m\n\u001b[0m\u001b[0;32m      3\u001b[0m \u001b[0mprob_n2\u001b[0m\u001b[1;33m,\u001b[0m \u001b[0mprob_n3\u001b[0m\u001b[1;33m,\u001b[0m \u001b[0mprob_n4\u001b[0m  \u001b[1;33m=\u001b[0m \u001b[0mprob_success_n\u001b[0m\u001b[1;33m[\u001b[0m\u001b[1;36m0\u001b[0m\u001b[1;33m]\u001b[0m\u001b[1;33m,\u001b[0m \u001b[0mprob_success_n\u001b[0m\u001b[1;33m[\u001b[0m\u001b[1;36m1\u001b[0m\u001b[1;33m]\u001b[0m\u001b[1;33m,\u001b[0m \u001b[0mprob_success_n\u001b[0m\u001b[1;33m[\u001b[0m\u001b[1;36m2\u001b[0m\u001b[1;33m]\u001b[0m\u001b[1;33m\u001b[0m\u001b[1;33m\u001b[0m\u001b[0m\n\u001b[0;32m      4\u001b[0m \u001b[1;33m\u001b[0m\u001b[0m\n\u001b[0;32m      5\u001b[0m \u001b[0mplt\u001b[0m\u001b[1;33m.\u001b[0m\u001b[0mfigure\u001b[0m\u001b[1;33m(\u001b[0m\u001b[0mfigsize\u001b[0m\u001b[1;33m=\u001b[0m\u001b[1;33m(\u001b[0m\u001b[1;36m7\u001b[0m\u001b[1;33m,\u001b[0m \u001b[1;36m5\u001b[0m\u001b[1;33m)\u001b[0m\u001b[1;33m)\u001b[0m\u001b[1;33m\u001b[0m\u001b[1;33m\u001b[0m\u001b[0m\n",
      "\u001b[1;31mNameError\u001b[0m: name 'y' is not defined"
     ]
    }
   ],
   "source": [
    "t = np.linspace(5.1, 10, 100)\n",
    "prob_success_n = [y(t, n) for n in [2, 3, 4]]\n",
    "prob_n2, prob_n3, prob_n4  = prob_success_n[0], prob_success_n[1], prob_success_n[2]\n",
    "\n",
    "plt.figure(figsize=(7, 5))\n",
    "plt.plot(t, prob_n2, t, prob_n3, t, prob_n4, t, [1]*len(t),'--' )\n",
    "plt.axis([5, 10, 0.7, 1.05])\n",
    "plt.xlabel('t: number of counting qubits')\n",
    "plt.ylabel('probability of success for the accuracy $2^{-n}$')\n",
    "plt.legend(['n = 2', 'n = 3', 'n = 4'], loc='lower right')\n",
    "plt.grid(True)"
   ]
  },
  {
   "cell_type": "markdown",
   "metadata": {},
   "source": [
    "![](image/L3_QPEresults.png)"
   ]
  },
  {
   "cell_type": "markdown",
   "metadata": {},
   "source": [
    "![](image/L3_QPEresults_final.png)"
   ]
  },
  {
   "cell_type": "markdown",
   "metadata": {},
   "source": [
    "![](image/L3_QPE_final.png)"
   ]
  }
 ],
 "metadata": {
  "kernelspec": {
   "display_name": "Python 3 (ipykernel)",
   "language": "python",
   "name": "python3"
  },
  "language_info": {
   "codemirror_mode": {
    "name": "ipython",
    "version": 3
   },
   "file_extension": ".py",
   "mimetype": "text/x-python",
   "name": "python",
   "nbconvert_exporter": "python",
   "pygments_lexer": "ipython3",
   "version": "3.9.7"
  }
 },
 "nbformat": 4,
 "nbformat_minor": 4
}
