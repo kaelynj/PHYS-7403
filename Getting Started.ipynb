{
 "cells": [
  {
   "cell_type": "markdown",
   "metadata": {},
   "source": [
    "# Getting started with Qiskit\n",
    "\n",
    "Here, we provide an overview of working with Qiskit. \n",
    "\n",
    "Before we begin, let's make sure we have a working development environment\n",
    "\n",
    "1. **Install anaconda.** https://www.anaconda.com/products/individual <br> <br>\n",
    "    \n",
    "    \n",
    "2. **Install qiskit** <br>\n",
    "    In the anaconda prompt type create a new environment using the command `conda create -n qiskit python=3`. Then activate the enviroment with `conda activate qiskit`. Finally install the package with `pip install qiskit` (or pip install qiskit[visualization]) <br> <br>\n",
    "    ***NOTE TO WINDOWS USERS***\n",
    "    <blockquote>\n",
    "    You may need to download some C++ libraries for windows which aren't available by default. :(  If you get an error when doing <code>pip install qiskit</code> this could be the issue.<br> <br>\n",
    "    1. Download and install the visual studio installer: \n",
    "<a href=\"https://visualstudio.microsoft.com/downloads/ \">https://visualstudio.microsoft.com/downloads/ </a><br>\n",
    "    2. Under Visual Studio Build Tools, check the <code>Desktop development with C++</code> and additionally select\n",
    "        <ul>\n",
    "            <li> MSCV v142 - VS 2019 C++ x86/64 build tools </li>\n",
    "        <li> Windows 10 SDK </li>\n",
    "        <li> C++ CMake tools for Windows </li>\n",
    "    </ul>\n",
    "    <br>\n",
    "    3. Let the installer download and install the C++ libraries you've selected\n",
    "    </blockquote>\n",
    "\n",
    "\n",
    "3. **Create an IBMQ account** https://quantum-computing.ibm.com/ and obtain an API token so that you can run your circuits on real IBM quantum computers. <br>\n",
    "<br>\n",
    "4. **Install miscellaneous packages** Install the following packages to ensure all the lab notebooks will cooperate \n",
    "    1. `pip install matplotlib`\n",
    "    2.`pip install pylatexenc`\n",
    "    3. `pip install seaborn`\n",
    "    4. `pip install ipywidgets`\n",
    "    5. `pip install jupyter`\n",
    "    6. `pip install qiskit-nature[pyscf]`\n",
    "\n"
   ]
  },
  {
   "cell_type": "markdown",
   "metadata": {},
   "source": [
    "# Using Qiskit\n",
    "\n",
    "The fundamental unit you will primarily work with in Qiskit the QuantumCircuit object. The basic workflow to using Qiskit consists of two stages: build and execute. Building involves making different quantum circuits which represent the problem/algorithm you are solving. Executing takes care of the, well, *execution* of those circuits as a job or set of jobs to be run on either real or simulated hardware. After the jobs have been run, the data is collected and must be postprocessed depending on the desired output."
   ]
  },
  {
   "cell_type": "code",
   "execution_count": 1,
   "metadata": {},
   "outputs": [],
   "source": [
    "#import sys\n",
    "#sys.path.append(\"C:/Users/Tyler\")\n",
    "#import qiskit\n",
    "from qiskit import IBMQ\n",
    "import numpy as np\n",
    "from qiskit import QuantumCircuit\n",
    "from qiskit import Aer\n",
    "from qiskit import *\n",
    "\n",
    "#make sure your qiskit version is up to date\n",
    "#qiskit.__qiskit_version__\n",
    "\n",
    "#Store your API token locally\n",
    "IBMQ.save_account(\"d9cb0315acd61f732cd8a940c9f5c7c757d3b94e900d5ed104202b045c67653b9f4f78ed6ee73d230536e2baac05ca97aa8e89afa332f7e7dd458e166ef58e6a\",overwrite = True)"
   ]
  },
  {
   "cell_type": "markdown",
   "metadata": {},
   "source": [
    "## Building the circuit \n",
    "\n",
    "The basic element needed for your first program is the QuantumCircuit. We begin by creating a QuantumCircuit comprised of two qubits."
   ]
  },
  {
   "cell_type": "code",
   "execution_count": 6,
   "metadata": {},
   "outputs": [],
   "source": [
    "# Create a Quantum Circuit acting on a quantum register of two qubits\n",
    "circ = QuantumCircuit(2)"
   ]
  },
  {
   "cell_type": "markdown",
   "metadata": {},
   "source": [
    "We can then add gates to the circuit. We start with a Hadamard gate acting on qubit $0$ and then add a $C_X$ (CNOT) gate using $0$ as the control qubit and $1$ as the target. "
   ]
  },
  {
   "cell_type": "code",
   "execution_count": 7,
   "metadata": {},
   "outputs": [
    {
     "data": {
      "text/plain": [
       "<qiskit.circuit.instructionset.InstructionSet at 0x27ebd8aaa80>"
      ]
     },
     "execution_count": 7,
     "metadata": {},
     "output_type": "execute_result"
    }
   ],
   "source": [
    "# Add a H gate on qubit 0, putting this qubit in superposition.\n",
    "circ.h(0)\n",
    "# Add a CX (CNOT) gate on control qubit 0 and target qubit 1, putting\n",
    "# the qubits in a Bell state.\n",
    "circ.cx(0, 1)"
   ]
  },
  {
   "cell_type": "markdown",
   "metadata": {},
   "source": [
    "You can visualize your circuit using Qiskit QuantumCircuit.draw(), which plots the circuit in the form found in many textbooks."
   ]
  },
  {
   "cell_type": "code",
   "execution_count": 8,
   "metadata": {},
   "outputs": [
    {
     "data": {
      "image/png": "[encoded data removed]",
      "text/plain": [
       "<Figure size 206.852x144.48 with 1 Axes>"
      ]
     },
     "execution_count": 8,
     "metadata": {},
     "output_type": "execute_result"
    }
   ],
   "source": [
    "circ.draw('mpl')"
   ]
  },
  {
   "cell_type": "code",
   "execution_count": 9,
   "metadata": {},
   "outputs": [
    {
     "data": {
      "text/html": [
       "<pre style=\"word-wrap: normal;white-space: pre;background: #fff0;line-height: 1.1;font-family: &quot;Courier New&quot;,Courier,monospace\">     ┌───┐     \n",
       "q_0: ┤ H ├──■──\n",
       "     └───┘┌─┴─┐\n",
       "q_1: ─────┤ X ├\n",
       "          └───┘</pre>"
      ],
      "text/plain": [
       "     ┌───┐     \n",
       "q_0: ┤ H ├──■──\n",
       "     └───┘┌─┴─┐\n",
       "q_1: ─────┤ X ├\n",
       "          └───┘"
      ]
     },
     "execution_count": 9,
     "metadata": {},
     "output_type": "execute_result"
    }
   ],
   "source": [
    "#One can also draw this in markdown\n",
    "circ.draw()"
   ]
  },
  {
   "cell_type": "markdown",
   "metadata": {},
   "source": [
    "[This tutorial](https://qiskit.org/documentation/tutorials/circuits_advanced/03_advanced_circuit_visualization.html) covers many of the circuit visualization tools that are available."
   ]
  },
  {
   "cell_type": "markdown",
   "metadata": {},
   "source": [
    "A few of the basic gates which can be added to a quantum circuit are the:\n",
    "\n",
    "* Pauli $X$, $Y$, $Z$ gates\n",
    "* Hadamard $H$ gate\n",
    "* $S$ (or $\\pi/2$) phase gate\n",
    "* $T$ (or $\\pi/4$) phase gate\n",
    "* Controlled-NOT (or Controlled-$X$) gate\n",
    "* Controlled-$H$ gate\n",
    "* CCX or Toffoli gate\n",
    "\n",
    "among many others.  [This tutorial](https://qiskit.org/documentation/tutorials/circuits/3_summary_of_quantum_operations.html) walks through many more which are available and demonstrates the syntax for each gate desired."
   ]
  },
  {
   "cell_type": "markdown",
   "metadata": {},
   "source": [
    "# Simulating a circuit and Executing on real hardware\n",
    "\n",
    "Qiskit circuits can be simulated or run on real IBM hardware. Below is the list of real backends avaliable with your IBM accounts. "
   ]
  },
  {
   "cell_type": "code",
   "execution_count": 13,
   "metadata": {},
   "outputs": [
    {
     "name": "stdout",
     "output_type": "stream",
     "text": [
      "\n",
      " <AccountProvider for IBMQ(hub='ibm-q', group='open', project='main')>\n",
      "ibmq_qasm_simulator\n",
      "ibmq_armonk\n",
      "ibmq_santiago\n",
      "ibmq_bogota\n",
      "ibmq_lima\n",
      "ibmq_belem\n",
      "ibmq_quito\n",
      "simulator_statevector\n",
      "simulator_mps\n",
      "simulator_extended_stabilizer\n",
      "simulator_stabilizer\n",
      "ibmq_manila\n",
      "\n",
      " <AccountProvider for IBMQ(hub='ibm-q-education', group='ohio-uni-1', project='spring2022')>\n",
      "ibmq_qasm_simulator\n",
      "ibmq_armonk\n",
      "ibmq_santiago\n",
      "ibmq_bogota\n",
      "ibmq_casablanca\n",
      "ibmq_lima\n",
      "ibmq_belem\n",
      "ibmq_quito\n",
      "simulator_statevector\n",
      "simulator_mps\n",
      "simulator_extended_stabilizer\n",
      "simulator_stabilizer\n",
      "ibmq_jakarta\n",
      "ibmq_manila\n",
      "ibm_lagos\n",
      "ibm_perth\n"
     ]
    }
   ],
   "source": [
    "IBMQ.load_account()\n",
    "\n",
    "\n",
    "#List out all the backends avaiable from each provider you have access to\n",
    "for provider in IBMQ.providers():\n",
    "    print('\\n',provider)\n",
    "    for backend in provider.backends():\n",
    "        print(backend.name())\n",
    "        \n",
    "provider = IBMQ.get_provider(hub='ibm-q-education', group='ohio-uni-1', project='spring2022')"
   ]
  },
  {
   "cell_type": "markdown",
   "metadata": {},
   "source": [
    "***\n",
    "Simulating a circuit that involves measurement requires us to add classical registers for the measurements to be stored to."
   ]
  },
  {
   "cell_type": "code",
   "execution_count": null,
   "metadata": {},
   "outputs": [],
   "source": [
    "#Create the circuit\n",
    "q = QuantumRegister(2)\n",
    "c = ClassicalRegister(2)\n",
    "\n",
    "qc = QuantumCircuit(q,c)\n",
    "# can also write \"qc = QuantumCircuit(2,2)\"\n",
    "\n",
    "#Add the hadamard and CNOT gates to the circuit\n",
    "qc.h(0)\n",
    "qc.cx(0, 1)\n",
    "\n",
    "#add measurements\n",
    "qc.measure(0,0)\n",
    "qc.measure(1,1)\n",
    "\n",
    "qc.draw('mpl')"
   ]
  },
  {
   "cell_type": "markdown",
   "metadata": {},
   "source": [
    "Let's try simulating the measurement of circuit from before on the 'aer_simulator'.  This will simulate the quantum circuit on your local machine.  (Which is useful for testing out algorithms before sending it to the real thing!) "
   ]
  },
  {
   "cell_type": "code",
   "execution_count": null,
   "metadata": {},
   "outputs": [],
   "source": [
    "#Define a backend object to run the circuit on\n",
    "backend = Aer.get_backend('aer_simulator')\n",
    "\n",
    "#If desired, we can also use ibm's cloud-based classical computers to simulate our circuit:\n",
    "#backend = provider.get_backend('ibmq_qasm_simulator')\n",
    "\n",
    "#Define the shots\n",
    "shots = 8192\n",
    "\n",
    "#run the job with the run method\n",
    "job = backend.run(qc, shots=shots)\n",
    "\n",
    "# get the results of the job\n",
    "sim_results = job.result()\n",
    "\n",
    "\n",
    "sim_counts = sim_results.get_counts(qc)\n",
    "\n",
    "#Raw count data is stored in the Result object as a dict\n",
    "print(sim_counts)"
   ]
  },
  {
   "cell_type": "code",
   "execution_count": null,
   "metadata": {
    "scrolled": true
   },
   "outputs": [],
   "source": [
    "from qiskit.visualization import plot_histogram\n",
    "plot_histogram(sim_counts)"
   ]
  },
  {
   "cell_type": "markdown",
   "metadata": {},
   "source": [
    "We can also execute this circuit on real hardware by changing the backend and transpiling to be compatible with that backend."
   ]
  },
  {
   "cell_type": "code",
   "execution_count": null,
   "metadata": {},
   "outputs": [],
   "source": [
    "#We will use the imb_lagos backend\n",
    "backend = provider.get_backend('ibm_lagos')\n",
    "\n",
    "initial_layout = [0,1]\n",
    "\n",
    "qc_trans = transpile(qc, backend, initial_layout=initial_layout, optimization_level=3)"
   ]
  },
  {
   "cell_type": "code",
   "execution_count": null,
   "metadata": {},
   "outputs": [],
   "source": [
    "#To keep track of our job, we can use the job_monitor module in qiskit\n",
    "from qiskit.tools import job_monitor\n",
    "\n",
    "job = backend.run(qc_trans, shots=shots)\n",
    "job_monitor(job)\n",
    "\n",
    "#We can also print the id of the job.  Any job you submit to ibm's cloud services will have a unique job id.  These\n",
    "# job ids can also be used to download the results data of your job at a later time\n",
    "#job = backend.retrieve_job('JOB_ID')\n",
    "print(job.job_id())\n",
    "\n",
    "# get the results of the job\n",
    "hardware_results = job.result()\n",
    "\n",
    "\n",
    "hardware_counts = hardware_results.get_counts(qc_trans)"
   ]
  },
  {
   "cell_type": "code",
   "execution_count": null,
   "metadata": {},
   "outputs": [],
   "source": [
    "plot_histogram(hardware_counts)"
   ]
  },
  {
   "cell_type": "markdown",
   "metadata": {},
   "source": [
    "As you can see the real hardware gives probability for states 01 and 10 which are not present in the simulations. There are ways to mitigate this error which will be discussed later. For now recognize that the hardware is prone to errors."
   ]
  }
 ],
 "metadata": {
  "kernelspec": {
   "display_name": "Python 3 (ipykernel)",
   "language": "python",
   "name": "python3"
  },
  "language_info": {
   "codemirror_mode": {
    "name": "ipython",
    "version": 3
   },
   "file_extension": ".py",
   "mimetype": "text/x-python",
   "name": "python",
   "nbconvert_exporter": "python",
   "pygments_lexer": "ipython3",
   "version": "3.9.7"
  }
 },
 "nbformat": 4,
 "nbformat_minor": 2
}
