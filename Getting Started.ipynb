{
 "cells": [
  {
   "cell_type": "markdown",
   "metadata": {
    "slideshow": {
     "slide_type": "slide"
    }
   },
   "source": [
    "# Getting started with Qiskit\n",
    "\n",
    "Here, we provide an overview of working with Qiskit. \n",
    "\n",
    "Before we begin, let's make sure we have a working development environment\n",
    "\n",
    "1. **Install anaconda.** https://www.anaconda.com/products/individual <br> <br>\n",
    "    \n",
    "    \n",
    "2. **Install qiskit** <br>\n",
    "    In the anaconda prompt type create a new environment using the command `conda create -n qiskit python=3`. Then activate the enviroment with `conda activate qiskit`. Finally install the package with `pip install qiskit` (or pip install qiskit[visualization]) <br> <br>\n",
    "    ***NOTE TO WINDOWS USERS***\n",
    "    <blockquote>\n",
    "    You may need to download some C++ libraries for windows which aren't available by default. :(  If you get an error when doing <code>pip install qiskit</code> this could be the issue.<br> <br>\n",
    "    1. Download and install the visual studio installer: \n",
    "<a href=\"https://visualstudio.microsoft.com/downloads/ \">https://visualstudio.microsoft.com/downloads/ </a><br>\n",
    "    2. Under Visual Studio Build Tools, check the <code>Desktop development with C++</code> and additionally select\n",
    "        <ul>\n",
    "            <li> MSCV v142 - VS 2019 C++ x86/64 build tools </li>\n",
    "        <li> Windows 10 SDK </li>\n",
    "        <li> C++ CMake tools for Windows </li>\n",
    "    </ul>\n",
    "    <br>\n",
    "    3. Let the installer download and install the C++ libraries you've selected\n",
    "    </blockquote>\n",
    "\n",
    "\n",
    "3. **Create an IBMQ account** https://quantum-computing.ibm.com/ and obtain an API token so that you can run your circuits on real IBM quantum computers. <br>\n",
    "<br>\n",
    "4. **Install miscellaneous packages** Install the following packages to ensure all the lab notebooks will cooperate \n",
    "    1. `pip install matplotlib`\n",
    "    2.`pip install pylatexenc`\n",
    "    3. `pip install seaborn`\n",
    "    4. `pip install ipywidgets`\n",
    "    5. `pip install jupyter`\n",
    "    6. `pip install qiskit-nature`\n",
    "\n"
   ]
  },
  {
   "cell_type": "markdown",
   "metadata": {
    "slideshow": {
     "slide_type": "slide"
    }
   },
   "source": [
    "# Using Qiskit\n",
    "\n",
    "The fundamental unit you will primarily work with in Qiskit the QuantumCircuit object. The basic workflow to using Qiskit consists of two stages: build and execute. Building involves making different quantum circuits which represent the problem/algorithm you are solving. Executing takes care of the, well, *execution* of those circuits as a job or set of jobs to be run on either real or simulated hardware. After the jobs have been run, the data is collected and must be postprocessed depending on the desired output."
   ]
  },
  {
   "cell_type": "code",
<<<<<<< HEAD
   "execution_count": 1,
   "metadata": {},
   "outputs": [],
=======
   "execution_count": 21,
   "metadata": {
    "slideshow": {
     "slide_type": "subslide"
    }
   },
   "outputs": [
    {
     "name": "stderr",
     "output_type": "stream",
     "text": [
      "configrc.store_credentials:WARNING:2022-02-07 11:29:54,935: Credentials already present. Set overwrite=True to overwrite.\n"
     ]
    }
   ],
>>>>>>> 8f22383029694453e329311994097149e9fe3562
   "source": [
    "#import sys\n",
    "#sys.path.append(\"C:/Users/Tyler\")\n",
    "#import qiskit\n",
    "from qiskit import IBMQ\n",
    "import numpy as np\n",
    "from qiskit import QuantumCircuit\n",
    "from qiskit import Aer\n",
    "from qiskit import *\n",
    "\n",
    "#make sure your qiskit version is up to date\n",
    "#qiskit.__qiskit_version__\n",
    "\n",
    "#Store your API token locally\n",
    "IBMQ.save_account(\"d9cb0315acd61f732cd8a940c9f5c7c757d3b94e900d5ed104202b045c67653b9f4f78ed6ee73d230536e2baac05ca97aa8e89afa332f7e7dd458e166ef58e6a\",overwrite = True)"
   ]
  },
  {
   "cell_type": "markdown",
   "metadata": {
    "slideshow": {
     "slide_type": "slide"
    }
   },
   "source": [
    "## Building the circuit \n",
    "\n",
    "The basic element needed for your first program is the QuantumCircuit. We begin by creating a QuantumCircuit comprised of two qubits."
   ]
  },
  {
   "cell_type": "code",
<<<<<<< HEAD
   "execution_count": 6,
   "metadata": {},
   "outputs": [],
=======
   "execution_count": 22,
   "metadata": {
    "slideshow": {
     "slide_type": "subslide"
    }
   },
   "outputs": [
    {
     "name": "stdout",
     "output_type": "stream",
     "text": [
      "     \n",
      "q_0: \n",
      "     \n",
      "q_1: \n",
      "     \n"
     ]
    }
   ],
>>>>>>> 8f22383029694453e329311994097149e9fe3562
   "source": [
    "# Create a Quantum Circuit acting on a quantum register of two qubits\n",
    "circ = QuantumCircuit(2)\n",
    "print(circ)"
   ]
  },
  {
   "cell_type": "markdown",
   "metadata": {
    "slideshow": {
     "slide_type": "subslide"
    }
   },
   "source": [
    "We can then add gates to the circuit. We start with a Hadamard gate acting on qubit $0$ and then add a $C_X$ (CNOT) gate using $0$ as the control qubit and $1$ as the target. "
   ]
  },
  {
   "cell_type": "code",
<<<<<<< HEAD
   "execution_count": 7,
   "metadata": {},
=======
   "execution_count": 23,
   "metadata": {
    "slideshow": {
     "slide_type": "subslide"
    }
   },
>>>>>>> 8f22383029694453e329311994097149e9fe3562
   "outputs": [
    {
     "data": {
      "text/plain": [
<<<<<<< HEAD
       "<qiskit.circuit.instructionset.InstructionSet at 0x27ebd8aaa80>"
      ]
     },
     "execution_count": 7,
=======
       "<qiskit.circuit.instructionset.InstructionSet at 0x21b7bdd3868>"
      ]
     },
     "execution_count": 23,
>>>>>>> 8f22383029694453e329311994097149e9fe3562
     "metadata": {},
     "output_type": "execute_result"
    }
   ],
   "source": [
    "# Add a H gate on qubit 0, putting this qubit in superposition.\n",
    "circ.h(0)\n",
    "# Add a CX (CNOT) gate on control qubit 0 and target qubit 1, putting\n",
    "# the qubits in a Bell state.\n",
    "circ.cx(0, 1)"
   ]
  },
  {
   "cell_type": "markdown",
   "metadata": {
    "slideshow": {
     "slide_type": "subslide"
    }
   },
   "source": [
    "You can visualize your circuit using Qiskit QuantumCircuit.draw(), which plots the circuit in the form found in many textbooks."
   ]
  },
  {
   "cell_type": "code",
<<<<<<< HEAD
   "execution_count": 8,
   "metadata": {},
   "outputs": [
    {
     "data": {
      "image/png": "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\n",
=======
   "execution_count": 24,
   "metadata": {
    "slideshow": {
     "slide_type": "subslide"
    }
   },
   "outputs": [
    {
     "data": {
      "image/png": "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\n",
>>>>>>> 8f22383029694453e329311994097149e9fe3562
      "text/plain": [
       "<Figure size 206.852x144.48 with 1 Axes>"
      ]
     },
<<<<<<< HEAD
     "execution_count": 8,
=======
     "execution_count": 24,
>>>>>>> 8f22383029694453e329311994097149e9fe3562
     "metadata": {},
     "output_type": "execute_result"
    }
   ],
   "source": [
    "circ.draw('mpl')"
   ]
  },
  {
   "cell_type": "code",
<<<<<<< HEAD
   "execution_count": 9,
   "metadata": {},
=======
   "execution_count": 25,
   "metadata": {
    "slideshow": {
     "slide_type": "subslide"
    }
   },
>>>>>>> 8f22383029694453e329311994097149e9fe3562
   "outputs": [
    {
     "data": {
      "text/html": [
       "<pre style=\"word-wrap: normal;white-space: pre;background: #fff0;line-height: 1.1;font-family: &quot;Courier New&quot;,Courier,monospace\">     ┌───┐     \n",
       "q_0: ┤ H ├──■──\n",
       "     └───┘┌─┴─┐\n",
       "q_1: ─────┤ X ├\n",
       "          └───┘</pre>"
      ],
      "text/plain": [
       "     ┌───┐     \n",
       "q_0: ┤ H ├──■──\n",
       "     └───┘┌─┴─┐\n",
       "q_1: ─────┤ X ├\n",
       "          └───┘"
      ]
     },
<<<<<<< HEAD
     "execution_count": 9,
=======
     "execution_count": 25,
>>>>>>> 8f22383029694453e329311994097149e9fe3562
     "metadata": {},
     "output_type": "execute_result"
    }
   ],
   "source": [
    "#One can also draw this in markdown\n",
    "circ.draw()"
   ]
  },
  {
   "cell_type": "markdown",
   "metadata": {
    "slideshow": {
     "slide_type": "subslide"
    }
   },
   "source": [
    "[This tutorial](https://qiskit.org/documentation/tutorials/circuits_advanced/03_advanced_circuit_visualization.html) covers many of the circuit visualization tools that are available.\n",
    "\n",
    "A few of the basic gates which can be added to a quantum circuit are the:\n",
    "\n",
    "* Pauli $X$, $Y$, $Z$ gates\n",
    "* Hadamard $H$ gate\n",
    "* $S$ (or $\\pi/2$) phase gate\n",
    "* $T$ (or $\\pi/4$) phase gate\n",
    "* Controlled-NOT (or Controlled-$X$) gate\n",
    "* Controlled-$H$ gate\n",
    "* CCX or Toffoli gate\n",
    "\n",
    "among many others.  [This tutorial](https://qiskit.org/documentation/tutorials/circuits/3_summary_of_quantum_operations.html) walks through many more which are available and demonstrates the syntax for each gate desired."
   ]
  },
  {
   "cell_type": "markdown",
   "metadata": {
    "slideshow": {
     "slide_type": "slide"
    }
   },
   "source": [
    "# Simulating a circuit and Executing on real hardware\n",
    "\n",
    "Qiskit circuits can be simulated or run on real IBM hardware. Below is the list of real backends avaliable with your IBM accounts. "
   ]
  },
  {
   "cell_type": "code",
<<<<<<< HEAD
   "execution_count": 13,
   "metadata": {},
   "outputs": [
    {
=======
   "execution_count": 26,
   "metadata": {
    "slideshow": {
     "slide_type": "fragment"
    }
   },
   "outputs": [
    {
     "name": "stderr",
     "output_type": "stream",
     "text": [
      "ibmqfactory.load_account:WARNING:2022-02-07 11:35:11,678: Credentials are already in use. The existing account in the session will be replaced.\n"
     ]
    },
    {
>>>>>>> 8f22383029694453e329311994097149e9fe3562
     "name": "stdout",
     "output_type": "stream",
     "text": [
      "\n",
      " <AccountProvider for IBMQ(hub='ibm-q', group='open', project='main')>\n",
      "ibmq_qasm_simulator\n",
      "ibmq_armonk\n",
      "ibmq_santiago\n",
      "ibmq_bogota\n",
      "ibmq_lima\n",
      "ibmq_belem\n",
      "ibmq_quito\n",
      "simulator_statevector\n",
      "simulator_mps\n",
      "simulator_extended_stabilizer\n",
      "simulator_stabilizer\n",
      "ibmq_manila\n",
      "\n",
      " <AccountProvider for IBMQ(hub='ibm-q-education', group='ohio-uni-1', project='spring2022')>\n",
      "ibmq_qasm_simulator\n",
      "ibmq_armonk\n",
      "ibmq_santiago\n",
      "ibmq_bogota\n",
      "ibmq_casablanca\n",
      "ibmq_lima\n",
      "ibmq_belem\n",
      "ibmq_quito\n",
      "simulator_statevector\n",
      "simulator_mps\n",
      "simulator_extended_stabilizer\n",
      "simulator_stabilizer\n",
      "ibmq_jakarta\n",
      "ibmq_manila\n",
      "ibm_lagos\n",
      "ibm_perth\n"
     ]
    }
   ],
   "source": [
    "IBMQ.load_account()\n",
    "\n",
    "\n",
    "#List out all the backends avaiable from each provider you have access to\n",
    "for provider in IBMQ.providers():\n",
    "    print('\\n',provider)\n",
    "    for backend in provider.backends():\n",
    "        print(backend.name())\n",
    "        \n",
    "provider = IBMQ.get_provider(hub='ibm-q-education', group='ohio-uni-1', project='spring2022')"
   ]
  },
  {
   "cell_type": "markdown",
   "metadata": {
    "slideshow": {
     "slide_type": "slide"
    }
   },
   "source": [
    "Running a circuit on real hardware requires us to add classical registers for the measurements to be stored to."
   ]
  },
  {
   "cell_type": "code",
<<<<<<< HEAD
   "execution_count": null,
   "metadata": {},
   "outputs": [],
=======
   "execution_count": 27,
   "metadata": {
    "slideshow": {
     "slide_type": "fragment"
    }
   },
   "outputs": [
    {
     "data": {
      "image/png": "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\n",
      "text/plain": [
       "<Figure size 353.504x204.68 with 1 Axes>"
      ]
     },
     "execution_count": 27,
     "metadata": {},
     "output_type": "execute_result"
    }
   ],
>>>>>>> 8f22383029694453e329311994097149e9fe3562
   "source": [
    "#Create the circuit\n",
    "q = QuantumRegister(2)\n",
    "c = ClassicalRegister(2)\n",
    "\n",
    "qc = QuantumCircuit(q,c)\n",
    "# can also write \"qc = QuantumCircuit(2,2)\"\n",
    "\n",
    "#Add the hadamard and CNOT gates to the circuit\n",
    "qc.h(0)\n",
    "qc.cx(0, 1)\n",
    "\n",
    "#add measurements\n",
    "qc.measure(0,0)\n",
    "qc.measure(1,1)\n",
    "\n",
    "qc.draw('mpl')"
   ]
  },
  {
   "cell_type": "markdown",
   "metadata": {
    "slideshow": {
     "slide_type": "slide"
    }
   },
   "source": [
    "Let's try simulating the measurement of circuit from before on the 'aer_simulator'.  This will simulate the quantum circuit on your local machine.  (Which is useful for testing out algorithms before sending it to the real thing!) "
   ]
  },
  {
   "cell_type": "code",
<<<<<<< HEAD
   "execution_count": null,
   "metadata": {},
   "outputs": [],
=======
   "execution_count": 28,
   "metadata": {
    "slideshow": {
     "slide_type": "fragment"
    }
   },
   "outputs": [
    {
     "name": "stdout",
     "output_type": "stream",
     "text": [
      "{'11': 4067, '00': 4125}\n"
     ]
    }
   ],
>>>>>>> 8f22383029694453e329311994097149e9fe3562
   "source": [
    "#Define a backend object to run the circuit on\n",
    "backend = Aer.get_backend('aer_simulator')\n",
    "\n",
    "#If desired, we can also use ibm's cloud-based classical computers to simulate our circuit:\n",
    "#backend = provider.get_backend('ibmq_qasm_simulator')\n",
    "\n",
    "#Define the shots\n",
    "shots = 8192\n",
    "\n",
    "#run the job with the run method\n",
    "job = backend.run(qc, shots=shots)\n",
    "\n",
    "# get the results of the job\n",
    "sim_results = job.result()\n",
    "\n",
    "\n",
    "sim_counts = sim_results.get_counts(qc)\n",
    "\n",
    "#Raw count data is stored in the Result object as a dict\n",
    "print(sim_counts)"
   ]
  },
  {
   "cell_type": "code",
<<<<<<< HEAD
   "execution_count": null,
=======
   "execution_count": 12,
>>>>>>> 8f22383029694453e329311994097149e9fe3562
   "metadata": {
    "scrolled": true,
    "slideshow": {
     "slide_type": "fragment"
    }
   },
<<<<<<< HEAD
   "outputs": [],
=======
   "outputs": [
    {
     "data": {
      "image/png": "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\n",
      "text/plain": [
       "<Figure size 504x360 with 1 Axes>"
      ]
     },
     "execution_count": 12,
     "metadata": {},
     "output_type": "execute_result"
    }
   ],
>>>>>>> 8f22383029694453e329311994097149e9fe3562
   "source": [
    "from qiskit.visualization import plot_histogram\n",
    "plot_histogram(sim_counts)"
   ]
  },
  {
   "cell_type": "markdown",
   "metadata": {
    "slideshow": {
     "slide_type": "slide"
    }
   },
   "source": [
    "We can also execute this circuit on real hardware by changing the backend and transpiling to be compatible with that backend."
   ]
  },
  {
   "cell_type": "code",
<<<<<<< HEAD
   "execution_count": null,
   "metadata": {},
=======
   "execution_count": 18,
   "metadata": {
    "slideshow": {
     "slide_type": "fragment"
    }
   },
>>>>>>> 8f22383029694453e329311994097149e9fe3562
   "outputs": [],
   "source": [
    "#We will use the imb_lagos backend\n",
    "backend = provider.get_backend('ibmq_casablanca')\n",
    "\n",
    "initial_layout = [0,1]\n",
    "qc_trans = transpile(qc, backend, initial_layout=initial_layout, optimization_level=3)"
   ]
  },
  {
   "cell_type": "code",
<<<<<<< HEAD
   "execution_count": null,
   "metadata": {},
   "outputs": [],
=======
   "execution_count": 19,
   "metadata": {
    "slideshow": {
     "slide_type": "fragment"
    }
   },
   "outputs": [
    {
     "name": "stdout",
     "output_type": "stream",
     "text": [
      "Job Status: job has successfully run\n",
      "62013df7c8691f9b0cb6b3cf\n",
      "{'00': 3984, '01': 335, '10': 369, '11': 3504}\n"
     ]
    }
   ],
>>>>>>> 8f22383029694453e329311994097149e9fe3562
   "source": [
    "#To keep track of our job, we can use the job_monitor module in qiskit\n",
    "from qiskit.tools import job_monitor\n",
    "\n",
    "job = backend.run(qc_trans, shots=shots)\n",
    "job_monitor(job)\n",
    "\n",
    "#We can also print the id of the job.  Any job you submit to ibm's cloud services will have a unique job id.  These\n",
    "# job ids can also be used to download the results data of your job at a later time\n",
    "#job = backend.retrieve_job('JOB_ID')\n",
    "print(job.job_id())\n",
    "\n",
    "# get the results of the job\n",
    "hardware_results = job.result()\n",
    "\n",
    "\n",
    "hardware_counts = hardware_results.get_counts(qc_trans)\n",
    "print(hardware_counts)"
   ]
  },
  {
   "cell_type": "code",
   "execution_count": null,
<<<<<<< HEAD
   "metadata": {},
   "outputs": [],
=======
   "metadata": {
    "slideshow": {
     "slide_type": "fragment"
    }
   },
   "outputs": [],
   "source": [
    "plot_histogram(hardware_counts)"
   ]
  },
  {
   "cell_type": "code",
   "execution_count": 20,
   "metadata": {
    "slideshow": {
     "slide_type": "fragment"
    }
   },
   "outputs": [
    {
     "data": {
      "image/png": "iVBORw0KGgoAAAANSUhEUgAAAc0AAAE6CAYAAAB00gm8AAAAOXRFWHRTb2Z0d2FyZQBNYXRwbG90bGliIHZlcnNpb24zLjQuMiwgaHR0cHM6Ly9tYXRwbG90bGliLm9yZy8rg+JYAAAACXBIWXMAAAsTAAALEwEAmpwYAAAld0lEQVR4nO3de3hV5Zn38e9NUiIWsBzkmCBgIIWgQAxGpgj0YOlgh2HAWnyl1sHiCzoy1DLazrTTw3Q8H6AgokxftTqFVlqKo+DUEQHBEAgULMQCLQlDIoeCWEA5Jd7vH2snbnKAtWFn703y+1xXLrKf9eyVe7Egv/2sw7PM3REREZGza5HsAkRERC4UCk0REZGQFJoiIiIhKTRFRERCUmiKiIiEpNAUEREJKT3ZBSRTx44dvWfPnskuQ0REUsiGDRsOuPul9S1r1qHZs2dPiouLk12GiIikEDPb1dAyHZ4VEREJSaEpIiISkkJTREQkJIWmiIhISApNERGRkBSaIiIiISk0RUREQlJoioiIhKTQFBERCUmhKSIiEpJCU0REJCSFpoiISEgKTRERkZAUmiIiIiEpNEVEREJSaIqIiISk0BQREQlJoSkiIhKSQlNERCQkhaaIiEhICk0REZGQFJoiIiIhKTST5NVXXyUnJ4fs7GweeOCBBvutX7+etLQ0Fi1aVNP2+OOPk5uby4ABA7jppps4fvx4zbLZs2eTk5NDbm4u99xzT6Nug4hIc6PQTIKqqiruvPNOli1bRklJCQsWLKCkpKTefvfeey+jRo2qaauoqOAnP/kJxcXFbNmyhaqqKhYuXAjAG2+8wZIlS3j77bfZunUrM2bMSNg2iYg0BwrNJFi3bh3Z2dn07t2bli1bMmHCBJYsWVKn3+zZsxk/fjydOnU6rb2yspJjx45RWVnJhx9+SLdu3QB48skn+fa3v01GRgZAnfeJiMj5UWgmQUVFBVlZWTWvMzMzqaioqNNn8eLFTJky5bT27t27M2PGDHr06EHXrl255JJL+OIXvwjA9u3befPNNykoKGDEiBGsX7++8TdGRKQZUWgmgbvXaTOz015Pnz6dBx98kLS0tNPaDx06xJIlSygtLeXdd9/lgw8+4IUXXgCCEeihQ4dYu3YtDz/8MDfeeGO9P0tERM5NerILaI4yMzPZvXt3zevy8vKaQ6zViouLmTBhAgAHDhxg6dKlpKenc+rUKXr16sWll14KwLhx43jrrbeYOHEimZmZjBs3DjPj6quvpkWLFhw4cKCmr4iInB+NNJNgyJAh7Nixg9LSUk6ePMnChQsZM2bMaX1KS0spKyujrKyMG264gblz5zJ27Fh69OjB2rVr+fDDD3F3Xn/9dfr16wfA2LFjWb58ORAcqj158iQdO3ZM+PaJiDRVGmkmQXp6OnPmzGHUqFFUVVUxadIkcnNzmTdvHkCd85jRCgoKuOGGG8jLyyM9PZ3Bgwdz++23AzBp0iQmTZrEgAEDaNmyJc8991ydw74iInLurDmf88rPz/fi4uJklyEiIinEzDa4e359y3R4VkREJCSFpoiISEgKTRERkZAUmiIiIiEpNEVEREJSaIqIiISk0BQREQlJoSkiIhKSQlNERCQkhaaIiEhICk0REZGQFJoiIiIh6SkncTB5ZrIriJ/505NdgYhI6tJIU0REJCSFpoiISEgKTRERkZAUmiIiIiEpNEVEREJSaIqIiISk0BQREQlJoSkiIjF59dVXycnJITs7mwceeKDBfuvXryctLY1FixYBsHv3bj772c/Sr18/cnNzmTVrVk3fTZs2cc011zBo0CDy8/NZt25do2/HuVBoiohIaFVVVdx5550sW7aMkpISFixYQElJSb397r33XkaNGlXTlp6ezqOPPso777zD2rVreeKJJ2ree8899/D973+fTZs28aMf/Yh77rknYdsUC4WmiIiEtm7dOrKzs+nduzctW7ZkwoQJLFmypE6/2bNnM378eDp16lTT1rVrV/Ly8gBo06YN/fr1o6KiAgAz4/DhwwD85S9/oVu3bgnYmthpGj0REQmtoqKCrKysmteZmZkUFRXV6bN48WKWL1/O+vXr611PWVkZv/vd7ygoKABg5syZjBo1ihkzZvDRRx/x1ltvNd5GnAeNNEVEJDR3r9NmZqe9nj59Og8++CBpaWn1ruPo0aOMHz+emTNn0rZtWwCefPJJHn/8cXbv3s3jjz/ObbfdFv/i4yDhoWlmd5hZqZkdN7MNZnZtyPf1MbMjZna0VvtIM/N6vj7dOFsgItJ8ZWZmsnv37prX5eXldQ6lFhcXM2HCBHr27MmiRYu44447+M1vfgPAqVOnGD9+PDfffDPjxo2rec9zzz1X8/orX/mKLgQCMLOvArOA+4DBwFvAMjPrcZb3tQQWAqvO0C0X6Br1tSMeNYuIyMeGDBnCjh07KC0t5eTJkyxcuJAxY8ac1qe0tJSysjLKysq44YYbmDt3LmPHjsXdue222+jXrx933333ae/p1q0bK1euBGD58uX06dMnYdsUi0Sf07wbeNbd50de32VmXwKmAt85w/seBN4GVgIjGuiz390PxK1SERGpIz09nTlz5jBq1CiqqqqYNGkSubm5zJs3D4ApU6Y0+N41a9bw/PPPc8UVVzBo0CAA7rvvPkaPHs38+fP5x3/8RyorK7nooot4+umnE7E5MbP6jk83yg8KRosfAje5+4tR7U8AA9y93jA0s+uBmUAeMB6Y4+6to5aPBN4AdgEZQAnwY3d/42w15efne3Fx8Tlu0cf0PE0RkabDzDa4e359yxI50uwIpAH7arXvA75Q3xvMrCswHxjn7kdqn2yO2EMwUl0PtAS+BrxuZiPdvc7hXDO7HbgdgsMBK1asAKB37960adOGzZs3A9ChQwdyc3NZtSpYRXp6OsOGDWPjxo01l0Xn5+ezb98+4PKwfwcpr/rvY8CAAZw4cYIdO4Kj3FlZWXTu3JnqDxlt27YlLy+P1atXU1lZCcDw4cPZunUrBw8eBGDgwIEcOXKEnTt3AtCzZ0/at2/Pxo0bAWjXrh0DBw5k5cqVuDtmxogRI9i8eTOHDh0CIC8vj/fee4+ysjLg/PZT9XmYPn36kJGRwZYtWwDo1KkTffv2ZfXq1QBkZGQwdOhQiouLOXo0OIVeUFBAeXl5zeXxOTk5pKWl1dxj1qVLF3r16kVhYSEArVq1oqCggKKiIo4dOwbA0KFDKS0tZe/evQD079+fqqoqtm3bBkD37t1PuxKxdevW5OfnU1hYyIkTJwAYNmwY27dvZ//+/dpP2k/aT420n84kkSPNbkAFMNzd34xq/z7B6LPOhTtm9jqwwt3/LfL6VmqNNBv4WUuBSncfc6Z+GmnWpZGmiDR3ZxppJvJCoANAFdClVnsn6o4+q30O+L6ZVZpZJfBT4JOR17ef4WcVAal5FllERC5YCTs86+4nzWwDcB3wYtSi64BfNfC2K2q9/lvgX4CrCUatDRlEcNhWREQkbhJ99exjwPNmtg5YA0wBugHzAMzsfuBqd/88gLtviX6zmeUDH0W3m9l0oAzYSnBOcyIwluCiIRERkbhJaGi6+y/MrAPwXYJ7KbcAo919V6RLV2K/qqYl8AjQHThGEJ7Xu/vS+FQtIiISSPjcs+4+F5jbwLJbz/LeZ4Fna7U9BDwUn+pEREQaprlnRUREQlJoioiIhKTQFBERCUnP0xQRacY0OUtsNNIUEREJSaEpIiISkkJTREQkJIWmiIhISApNERGRkBSaIiIiISk0RUREQlJoioiIhKTQFBERCUmhKSIiEpJCU0REJCSFpoiISEgKTRERkZAUmiIiIiEpNEVEREJSaIqIiISk0BQREQlJoSkiIhKSQlNERCQkhaaIiEhICk0REZGQFJoiIiIhKTRFRERCiik0zayFmbWIet3FzL5hZp+Jf2kiIiKpJdaR5ivAXQBm1hooBh4GVpjZLXGuTUREJKXEGppXAcsj348DDgOdgMnAjDjWJSIiknJiDc02wPuR778ILHb3UwRBenkc6xIREUk5sYbm/wKfMbNPAqOA1yLt7YEP41mYiIhIqkmPsf9jwPPAUWAXsCrSPhz4fRzrEhERSTkxhaa7P2VmG4As4DV3/yiy6E/A9+JdnIiISCqJdaSJuxcTXDUb3fZK3CoSERFJUTFPbmBmd5jZVjP70Mx6R9ruNbMb41+eiIhI6oh1coPpwHeBpwGLWvQu8A/xK0tERCT1xDrSnAJMdvdZQGVU+0YgN25ViYiIpKBYQ/MyYEs97aeAVudfjoiISOqKNTR3Ann1tI8GSs6/HBERkdQV69WzjwBzzOxignOaQ83sa8A9wKR4FyciIpJKYr1P8xkzSwfuAy4mmOigApjm7r9ohPpERERSxrncpzkfmG9mHYEW7r4//mWJiIiknphDs5q7H4hnISIiIqnurKFpZm8DI9z9kJn9HvCG+rr7lfEsTkREJJWEGWn+CjgR9X2DoSkiItKUnTU03f2HUd//oFGrERERSWGxTqO33Mw+VU97WzNbHreqREREUlCskxuMBFrW034RcO15VyMiIpLCQl09a2bRswBdaWbvRb1OA0YR3K8pIiLSZIW95aSY4AIgB35bz/JjwF3xKkpERCQVhQ3NXgTT5u0Ergb+HLXsJLDf3aviXJuIiEhKCRWa7r4r8m3MD60WERFpKsJMbjAO+C93PxX5vkHu/uu4VSYiIpJiwow0FwFdgP2R7xviBBcFiYiINElhJjdoUd/3IiIizY1CUEREJKSw5zRD0TlNERFpysKe0wxD5zRFRKRJO+vhWXdvEfIrVGCa2R1mVmpmx81sg5k1OP2emfU3szfMbF+k/04zu8/MWtbqNyKyruo+U8LUIiIiEouEntM0s68Cs4D7gMHAW8AyM+vRwFtOAs8BXwRygOnAbcCPo9bZC1gaWddg4H5gtpmNb5ytEBGR5irR92neDTzr7vMjr+8ysy8BU4Hv1LO+PwJ/jGraZWYjOX1y+CnAu+5ePY3fO2ZWAMwgeP6niIhIXCTsPs3IIdWrgEdqLfot8Fch6sDMsoEvAS9FNQ+l7ny4/w183cw+4e6nwqxbRETkbBJ5n2ZHglDdV6t9H/CFM73RzN4C8oAMYD7wz1GLuwD/U8860yM/c0+tdd0O3A7QrVs3VqxYAUDv3r1p06YNmzdvBqBDhw7k5uayatUqANLT0xk2bBgbN27k8OHDAOTn57Nv3z7g8rNs+oWj+u9jwIABnDhxgh07dgCQlZVF586dKS4uBqBt27bk5eWxevVqKisrARg+fDhbt27l4MGDAAwcOJAjR46wc+dOAHr27En79u3ZuHEjAO3atWPgwIGsXLkSd8fMGDFiBJs3b+bQoUMA5OXl8d5771FWVgac337avXs3AH369CEjI4MtW7YA0KlTJ/r27cvq1asByMjIYOjQoRQXF3P06FEACgoKKC8vp6IieJhPTk4OaWlplJSUANClSxd69epFYWEhAK1ataKgoICioiKOHTsGwNChQyktLWXv3r0A9O/fn6qqKrZt2wZA9+7dyczMpKioCIDWrVuTn59PYWEhJ06cAGDYsGFs376d/fv3az9pP8VlP0FDZ8cuPHv27InLfjoTc/dG3ISoH2TWjeDxYcPd/c2o9u8DN7n7p8/w3iygDTAQeBh4wt3vjyzbDjzv7v8W1X8EsALo6u57G1pvfn6+V/+jPR+TZ573KlLG/OnJrkBEEkm/v+oysw3unl/fsrBPOYleWR7BBTn9I03vAI+7+8azvPUAUEUwMozWibqjz9O4++7ItyVmlgb8h5k97O6VwN4G1lkJHDxLTSIiIqHFdLjVzG4G1gNdCa5YXQp0BtaZ2cQzvdfdTwIbgOtqLbqO4MrXsFoQhH31+dNC6h7evQ4o1vlMERGJp1hHmv8OfM/d74tuNLPvENwG8sJZ3v8Y8LyZrQPWEFz52g2YF1nP/cDV7v75yOuvAceB3xPcfpJPcEvJInevPvA8D/gHM5sJPAV8BrgVuCnGbRMRETmjWEPzUuCX9bS/CHzvbG9291+YWQfguwSj1S3A6KjndXbl9KtqKgluRelD8BDsXcATwONR6yw1s9GRtqnAu8A0d9ftJiIiElexhuYbwEhOv3eSSNvKMCtw97nA3AaW3Vrr9QJgQYh1riS4ulZERKTRxDph+zLgfjPLB9ZG2q4BxgE/iHt1IiIiKeRcJ2yvudcxymwaGEGKiIg0BTFNbiAiItKcKRBFRERCOpfJDdoTzP/aAzjtEV3u/qM41SUiIpJyYgpNM7sGeAU4QXD7SQXBbSIngDJAoSkiIk1WrIdnHwb+E+hOMOnA5whGnMXAg/EtTUREJLXEGppXAnM8mOW9Cshw933AveiWExERaeJiDc2TUd/vAy6LfH+UYDo8ERGRJivWC4E2AkOA7QSP3vqxmXUGJgJvx7c0ERGR1BLrSPNfCOZ2hWD+2D8TTGrQjrqTHYiIiDQpMY003b046vs/A38d94pERERSVMz3aQKY2eVAv8jLEnffGb+SREREUlOs92l2AH4KjAE++rjZXgYmufvBONcnIiKSMmI9p/kfQDZwLXBR5Gs40AuYH9/SREREUkush2dHAZ9398KotjVm9n+B/4lfWSIiIqkn1pHmn4EP6mn/ENChWRERadJiDc0fATPNrHt1Q+T7R9G8syIi0sSd9fCsmf0e8KimXkCZmVVEXlfPQ9uJ4JyniIhIkxTmnOaiRq9CRETkAnDW0HT3HyaiEBERkVR3rpMbfA7oT3DYdqu7r4hnUSIiIqko1skNugOLgav4eA7abmZWDPydu7/b4JtFREQucLFePfsTgudoZrt7lrtnAX0ibT+Jd3EiIiKpJNbDs9cBI929tLrB3Xea2TTg9bhWJiIikmJiHWk25KOzdxEREbmwxRqarwM/MbOs6gYz6wHMQiNNERFp4mINzWnAxcBOM9tlZmXAnyJt0+Jcm4iISEqJ9ZzmQeBq4LPApwEjeJ6mJmsXEZEmL3Romlka8BdgoLu/BrzWaFWJiIikoNCHZ929CtgFtGy8ckRERFJXrOc0/w14wMw6NkYxIiIiqSzWc5ozCJ5yUmFm5dR6tqa7XxmvwkRERFJNrKG5iGC+WWuEWkRERFJaqNA0s4uBh4GxwCcI7sm8y90PNF5pIiIiqSXsOc0fArcCrwALgC8ATzZSTSIiIikp7OHZccBt7r4QwMz+E1hjZmmRq2pFRESavLAjzSzgzeoX7r4OqAS6NUZRIiIiqShsaKYBJ2u1VXKOD7EWERG5EIUNPQNeMLMTUW0XAfPN7MPqBncfE8/iREREUknY0HyunrYX4lmIiIhIqgsVmu7+941diIiISKqL10OoRUREmjyFpoiISEgKTRERkZAUmiIiIiEpNEVEREJSaIqIiISk0BQREQlJoSkiIhKSQlNERCQkhaaIiEhICk0REZGQFJoiIiIhKTRFRERCUmiKiIiEpNAUEREJSaEpIiISkkJTREQkpISHppndYWalZnbczDaY2bVn6HuRmT1rZm+b2SkzW1FPn5Fm5vV8fbpRN0RERJqdhIammX0VmAXcBwwG3gKWmVmPBt6SBhwH5gCvnGX1uUDXqK8d8ahZRESkWnqCf97dwLPuPj/y+i4z+xIwFfhO7c7u/gEwBcDMrgQ+dYZ173f3A/EtV0RE5GMJC00zawlcBTxSa9Fvgb+Kw48oNrMMoAT4sbu/0UAdtwO3A3Tr1o0VK1YA0Lt3b9q0acPmzZsB6NChA7m5uaxatQqA9PR0hg0bxsaNGzl8+DAA+fn57Nu3D7g8DuWnhuq/jwEDBnDixAl27AgG7FlZWXTu3Jni4mIA2rZtS15eHqtXr6ayshKA4cOHs3XrVg4ePAjAwIEDOXLkCDt37gSgZ8+etG/fno0bNwLQrl07Bg4cyMqVK3F3zIwRI0awefNmDh06BEBeXh7vvfceZWVlwPntp927dwPQp08fMjIy2LJlCwCdOnWib9++rF69GoCMjAyGDh1KcXExR48eBaCgoIDy8nIqKioAyMnJIS0tjZKSEgC6dOlCr169KCwsBKBVq1YUFBRQVFTEsWPHABg6dCilpaXs3bsXgP79+1NVVcW2bdsA6N69O5mZmRQVFQHQunVr8vPzKSws5MSJEwAMGzaM7du3s3//fu0n7ae47Cdo6EDfhWfPnj1x2U9nYu7eiJsQ9YPMugEVwAh3XxXV/q/Aze6ec5b3zwEGuPvIWu05wGeB9UBL4GsEo9OR0T+nPvn5+V79j/Z8TJ553qtIGfOnJ7sCEUkk/f6qy8w2uHt+fcsSfXgWoHZKWz1t4Vfmvg3YFtVUaGY9gRnAGUNTREQkFom8EOgAUAV0qdXeCdgX559VBPSJ8zpFRKSZS1houvtJYANwXa1F1xFcRRtPg4A9cV6niIg0c4k+PPsY8LyZrQPWEJx77AbMAzCz+4Gr3f3z1W8ws/4E5yo7Aq3NbBCAu2+KLJ8OlAFbI/0mAmOB8Y2/OSIi0pwkNDTd/Rdm1gH4LsG9lFuA0e6+K9KlK3UvRV0KXBb1+neRPy3yZ0uCK3K7A8cIwvN6d18a/y0QEZHmLOEXArn7XGBuA8turaet51nW9xDwUDxqExERORPNPSsiIhKSQlNERCQkhaaIiEhICk0REZGQFJoiIiIhKTRFRERCUmiKiIiEpNAUEREJSaEpIiISkkJTREQkJIWmiIhISApNERGRkBSaIiIiISk0RUREQlJoioiIhKTQFBERCUmhKSIiEpJCU0REJCSFpoiISEgKTRERkZAUmiIiIiEpNEVEREJSaIqIiISk0BQREQlJoSkiIhKSQlNERCQkhaaIiEhICk0REZGQFJoiIiIhKTRFRERCUmiKiIiEpNAUkZT26quvkpOTQ3Z2Ng888ECd5e7OtGnTyM7O5sorr2Tjxo2nLa+qqmLw4MF8+ctfrmn7wQ9+QPfu3Rk0aBCDBg1i6dKljb4d0jSkJ7sAEZGGVFVVceedd/Laa6+RmZnJkCFDGDNmDP3796/ps2zZMnbs2MGOHTsoKipi6tSpFBUV1SyfNWsW/fr14/Dhw6et+5vf/CYzZsxI2LZI06CRpkhEY4xoXnzxRXJzc2nRogXFxcWNvg1Nzbp168jOzqZ37960bNmSCRMmsGTJktP6LFmyhFtuuQUz45prruH9999nz549AJSXl/PKK6/wjW98IxnlSxOk0BTh4xHNsmXLKCkpYcGCBZSUlJzWJ3pE8/TTTzN16tTTllePaKINGDCAX//61wwfPrzRt6EpqqioICsrq+Z1ZmYmFRUVoftMnz6dhx56iBYt6v6qmzNnDldeeSWTJk3i0KFDjbQF0tQoNEVovBFNv379yMnJSdh2NDXuXqfNzEL1efnll+nUqRNXXXVVneVTp07lT3/6E5s2baJr165861vfil/R0qQpNEVo3BGNnLvMzEx2795d87q8vJxu3bqF6rNmzRpeeuklevbsyYQJE1i+fDkTJ04EoHPnzqSlpdGiRQsmT57MunXrErNBcsHT/3ARGm9EI+dnyJAh7Nixg9LSUk6ePMnChQsZM2bMaX3GjBnDz372M9ydtWvXcskll9C1a1fuv/9+ysvLKSsrY+HChXzuc5/jhRdeAKg5QgCwePFiBgwYkNDtkguXrp4V4fxGNIsWLeKll15i6dKlHD9+nMOHDzNx4sSaX9By7tLT05kzZw6jRo2iqqqKSZMmkZuby7x58wCYMmUKo0ePZunSpWRnZ3PxxRfzzDPPnHW999xzD5s2bcLM6NmzJ0899VRjb4o0EVbfp+fmIj8/3+NxRePkmedfS6qYPz3ZFSRHZWUlffv25fXXX6d79+4MGTKEn//85+Tm5tb0eeWVV5gzZw5Lly6lqKiIadOm1Tmst2LFCh555BFefvnl09pHjhzJI488Qn5+fkK2RyQs/f6qy8w2uHu9/1l1eFaE00c0/fr148Ybb6wZ0VSPakaPHk3v3r3Jzs5m8uTJzJ0796zrXbx4MZmZmRQWFnL99dczatSoxt4UEWlEGmlqpHma5jrSlMTQ/5XUo31Sl0aaIiIicaALgaTJaiqfoJvKiEakKdBIU0REJCSFpoiISEgKTRERkZAUmiIiIiEpNEVEREJSaIqIiISk0BQREQlJoSkiIhKSQlNERCQkhaaIiEhICk0REZGQFJoiIiIhKTRFRERCUmiKiIiEpNAUEREJKeGhaWZ3mFmpmR03sw1mdu1Z+l9hZivN7JiZVZjZv5qZ1eozIrKu42a208ymNO5WiIhIc5TQ0DSzrwKzgPuAwcBbwDIz69FA/7bAa8A+YAgwDfgn4O6oPr2ApZF1DQbuB2ab2fjG2xIREWmOEj3SvBt41t3nu/s77n4XsAeY2kD/m4GLga+7+xZ3/xXwIHB31GhzCvCuu98VWed84DlgRuNuioiINDfm7on5QWYtgQ+Bm9z9xaj2J4AB7j6invf8DOjg7tdHtQ0B1gG93b3UzFYBv3f3O6P6fAX4OXCxu5+qtc7bgdsjL3OAbfHaxkbWETiQ7CKkDu2X1KN9kpoupP1ymbtfWt+C9AQW0RFIIzjUGm0f8IUG3tMFKK+nf/Wy0sif/1NPn/TIz9wTvcDdnwaejqXwVGBmxe6en+w65HTaL6lH+yQ1NZX9koyrZ2sPba2etrP1r90epo+IiMh5SWRoHgCqCEaG0TpRd/RZbW8D/Yl6T0N9KoGD51SpiIhIPRIWmu5+EtgAXFdr0XUEV77WpxC41swuqtX/XaAsqk/tw7vXAcW1z2de4C64Q8rNhPZL6tE+SU1NYr8k7EIgqLnl5HngDmANwZWvtwG57r7LzO4Hrnb3z0f6X0Jwoc4K4MdAX+BZ4Ifu/mikTy9gCzAfeAr4DDCX4IKjXyVs40REpMlL5IVAuPsvzKwD8F2gK0HYjXb3XZEuXYHLo/r/xcyuA54AioFDwKPAY1F9Ss1sNPA4wa0r7wLTFJgiIhJvCR1pioiIXMg096yIiEhICk0REZGQFJoi0mRUT69Z+6EOIvGic5opzMz6A/2BS4APgCJ3L01uVSIXjurwdP2ikzhRaKYoM/s2wYT1fYAKgokaPgJ+RzCv7hqC3wXagQliZpcBB939aLJrkdOZWQvgb4FLCR7yUAGsdPf9SS1MmhyFZgqK3JZTBvyTu88zsyzgamAocBVwEfAdd1+RtCKbGTNrB/yB4MPKr4A3gT31PBDgM8Af3b2hWa4kzsysDfBT4LMEHyzLCabQPAasBF5w9z+YmelDZmKY2SeAXsAudz+R7HriSec0U9NXgD+4+zwAd9/t7r9y9xnAdIJP0S+ZWe8k1tjc3Ax8AmgN/D+C+4bnmdkoM7vUzFpEPtw8A7RLYp3N0TSCJxaNdvfOBPtqJrAVGAU8ZGaXKjAT6k6Co2LzzOxvzKyLmaVFdzCztmb215GAvWBopJmCIo82e4jgOaKrqv+xuXtVZPlFBLMk/czd5yat0GYk8gi7dIIJND4J3AL8PZAH/BH4BcFhwdvc/VNJKrNZMrM3gcXu/lit9jSCGcJ+CvzJ3b+UjPqaIzMrBI4T/J/5K+B/gcXArwke5fgXM5sC3Oru1ySv0thppJmaXgF2Ad8ysyvcvao6MAHc/TjBhPQdklVgcxL5JFxIcHjW3P2Iuz8RecxRX+CXwATgm8Ajyau0+TGzdIKZxcab2aWRtjQzS4v8v1lFMF1nppkNTGatzUVkP5wC5rv7tcBlBB9cvgysApab2b0ER82KklXnudJIM8VUn3eJnBubDVwBLCP4R/c20J7gk9uPgMHuXpasWpuTSHC2dvdDkRFMC+CjqNH/pwkOB17m7rWfASuNyMyuAf4TWAQ8Vvt8cuSw+TtAjrtXJKHEZsXMuhJ8iCxx9/+utWww8I3I8nZA1oW2TxSaKcrM2gIZBBf+fA24PvJ6L8Eoc467z0pehc1H1AeZy4Ej0VdkmlkLd//IzL4HTHb3HsmrtPmJXDXbguBQ+X0EhwMXERwu3w1cCfwN0M/dhySrzubGzFoRXN1/PPqe2erzymb27wTnoAcnq8ZzpdBMIWbWiSAg7wbeIzgn8C7B4drlwKeAHsAaXZ2ZGLX2yX6CDyx7gBeBX7v7B5F+1wNH3X1lsmpt7szsU8CtwP8BBgFHgBPAOuB+d7/gDgVeyBq6WtnMLgY2As+4+4OJr+z8KDRTiJk9C+QC/0UQmu2BgcCnCcLzn919fdIKbIYa2CeDCfZJOfCwu/82aQU2Y5GjMUeifzFHRp4XEVzlPAD4QGGZOPXtk3r6XAR8FVgQec7yBUWhmSIihzCOEByyWBXV1gMoIDgP0Bv4irv/LmmFNiNn2CdZBPtkMsFFDhO0TxLPzJ4iGEWuI7gf8HA9fdpFzkPrHs0ECLlPPuXu7ye6tnjR1bOpoz9QCtR88vLALnf/JcGVZ+8DNyanvGapoX3yv+7+IsE+OYL2ScKZ2U0EH1oeBZYAD5vZODPLjpxPw8xaA89ErkBXYDayBvbJ35nZ5VH7pBXwnJkNSGKp50UjzRQR+cf0MsG9frcQ3Ff2Ua0+dxHcBzgo8RU2P9onqcvM5gNVBPczjwO+TvAA+23AUuB1ggkPZrl7y2TV2Zw0l32ikWaKcPdjwL8ArYCfAbeYWZaZfRJqTp6PILgnTRJA+yQ1Re7NLAXed/ed7v6Iu18BDCGYNu/rBPfOzgaeT16lzUdz2icaaaaYyGGL7wFjCJ5sUgj8GfgCwVWb33D33yevwuZH+yT1ROYC7hyZU7YlcKrWBUFfBRYAee6+KUllNivNZZ8oNFNU5FaH64GxBLeebAFedPc/JLOu5kz7JLVFrpw1d68ys8kEhwEvTnZdzVlT3CcKzQtA9Q30ya5DPqZ9ktrM7G4gzd0fTnYtEmgq+0ShKSJNTmTawyp9sEkdTWWfKDRFRERC0tWzIiIiISk0RUREQlJoioiIhKTQFBERCUmhKSIiEpJCU0REJKT/D0G8yHdfh3UaAAAAAElFTkSuQmCC\n",
      "text/plain": [
       "<Figure size 504x360 with 1 Axes>"
      ]
     },
     "execution_count": 20,
     "metadata": {},
     "output_type": "execute_result"
    }
   ],
>>>>>>> 8f22383029694453e329311994097149e9fe3562
   "source": [
    "plot_histogram(hardware_counts)"
   ]
  },
  {
   "cell_type": "markdown",
   "metadata": {
    "slideshow": {
     "slide_type": "fragment"
    }
   },
   "source": [
    "As you can see the real hardware gives probability for states 01 and 10 which are not present in the simulations. There are ways to mitigate this error which will be discussed later. For now recognize that the hardware is prone to errors."
   ]
  }
 ],
 "metadata": {
  "celltoolbar": "Slideshow",
  "kernelspec": {
   "display_name": "Python 3 (ipykernel)",
   "language": "python",
   "name": "python3"
  },
  "language_info": {
   "codemirror_mode": {
    "name": "ipython",
    "version": 3
   },
   "file_extension": ".py",
   "mimetype": "text/x-python",
   "name": "python",
   "nbconvert_exporter": "python",
   "pygments_lexer": "ipython3",

  }
 },
 "nbformat": 4,
 "nbformat_minor": 2
}
